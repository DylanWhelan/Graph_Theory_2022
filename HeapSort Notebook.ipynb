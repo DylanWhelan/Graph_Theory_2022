{
 "cells": [
  {
   "cell_type": "markdown",
   "id": "23218baa",
   "metadata": {},
   "source": [
    "# The Heapsort"
   ]
  },
  {
   "cell_type": "markdown",
   "id": "dbaf5c60",
   "metadata": {},
   "source": [
    "The heapsort is a comparison-based sorting alogorithm which makes use of binary heaps to sort through data. It is an in-place sorting algorithm, meaning that it does all it's work on the list it is sorting, rather than cloning it before doing any work.\n",
    "\n",
    "It has the advantages of:\n",
    "- Having a low amount of memory usage, as it only needs store variables used for comparisons, not to clone the list.\n",
    "- Being relatively simple to implement.\n",
    "- It has very consistent performance, meaning users can be confident of the amount of time it will take in most circumstances.\n",
    "However it also has the disadvantages of:\n",
    "- Suffering in speed relative to more efficient implementations of quicksorts and merge sorts.\n",
    "- It is an un-stable sorting algorithm, meaning that items with the same values might not stay in the same relative order after a sort has been done "
   ]
  },
  {
   "cell_type": "markdown",
   "id": "ec47fb1d",
   "metadata": {},
   "source": [
    "### The Heapsort algorithm\n",
    "This is the algorithm for performing a heapsort using a max heap\n",
    "- The list is converted into a max binary heap\n",
    "- Remove the root element from the binary heap and add it to the end of the list\n",
    "- Remove the new root and and add it before the previously added value\n",
    "- Continue doing this until you reach the beginning of the array"
   ]
  },
  {
   "cell_type": "code",
   "execution_count": 1,
   "id": "cd72a235",
   "metadata": {},
   "outputs": [
    {
     "data": {
      "text/plain": [
       "[10, 38, 28, 201, 157, 154, 234, 42, 73, 242]"
      ]
     },
     "execution_count": 1,
     "metadata": {},
     "output_type": "execute_result"
    }
   ],
   "source": [
    "import random, copy, math, pydot\n",
    "import networkx as nx\n",
    "import matplotlib.pyplot as plt\n",
    "L = [] # The list to be used for testing is declared\n",
    "for i in range(0, 10): # The list is populated with 10 randomly generated digits\n",
    "    L.append(random.randint(1,255))\n",
    "L"
   ]
  },
  {
   "cell_type": "code",
   "execution_count": 2,
   "id": "1075e34a",
   "metadata": {},
   "outputs": [],
   "source": [
    "# The functions used here were derived from the heapsort function on this page: https://www.geeksforgeeks.org/heap-sort/\n",
    "def heapSort(inputList, mode): # The function for sorting lists is created here, the inputList is the list to sort\n",
    "    # The mode determines whether it is an ascending or descending heapsort, True == ascending, False == descending\n",
    "    length = len(inputList)\n",
    "    \n",
    "    \n",
    "    for i in range(length//2 - 1, -1, -1): # The max heap is created\n",
    "        toHeap(inputList, length, i)\n",
    "    \n",
    "    for i in range(length-1, 0, -1): # The heap is reverted back to list form\n",
    "        inputList[i], inputList[0] = inputList[0], inputList[i]\n",
    "        toHeap(inputList, i, 0)\n",
    "    \n",
    "    if mode == False: \n",
    "        inputList.reverse()\n",
    "\n",
    "def toHeap(inputList, listLength, index): # A subtree is created with the index value being the root\n",
    "    root = index\n",
    "    left = 2 * index + 1\n",
    "    right = 2 * index + 2\n",
    "    \n",
    "     # The root must be larger than either of it's children, or it will be swapped with the larger child\n",
    "    if left < listLength and inputList[root] < inputList[left]:\n",
    "         root = left\n",
    "        \n",
    "    if right < listLength and inputList[root] < inputList[right]:\n",
    "        root = right\n",
    "    \n",
    "    if root != index: # If the root has been changed and no longer matches, the index, the values stored at the new root and the index are swapped\n",
    "        inputList[index], inputList[root] = inputList[root], inputList[index] # Values are swapped\n",
    "        \n",
    "        toHeap(inputList, listLength, root) # The tree is recreated with the the new root"
   ]
  },
  {
   "cell_type": "code",
   "execution_count": 3,
   "id": "de9c84b1",
   "metadata": {},
   "outputs": [
    {
     "ename": "TypeError",
     "evalue": "object of type 'Dot' has no len()",
     "output_type": "error",
     "traceback": [
      "\u001b[1;31m---------------------------------------------------------------------------\u001b[0m",
      "\u001b[1;31mTypeError\u001b[0m                                 Traceback (most recent call last)",
      "\u001b[1;32m~\\AppData\\Local\\Temp/ipykernel_10316/3978675929.py\u001b[0m in \u001b[0;36m<module>\u001b[1;34m\u001b[0m\n\u001b[0;32m      2\u001b[0m \u001b[0mheapSort\u001b[0m\u001b[1;33m(\u001b[0m\u001b[0mL1\u001b[0m\u001b[1;33m,\u001b[0m \u001b[1;32mTrue\u001b[0m\u001b[1;33m)\u001b[0m \u001b[1;31m# Sort lowest to highest\u001b[0m\u001b[1;33m\u001b[0m\u001b[1;33m\u001b[0m\u001b[0m\n\u001b[0;32m      3\u001b[0m \u001b[0mL1\u001b[0m\u001b[1;33m\u001b[0m\u001b[1;33m\u001b[0m\u001b[0m\n\u001b[1;32m----> 4\u001b[1;33m \u001b[0mdrawtree\u001b[0m\u001b[1;33m(\u001b[0m\u001b[0mL1\u001b[0m\u001b[1;33m)\u001b[0m\u001b[1;33m\u001b[0m\u001b[1;33m\u001b[0m\u001b[0m\n\u001b[0m",
      "\u001b[1;32m~\\AppData\\Local\\Temp/ipykernel_10316/3228085089.py\u001b[0m in \u001b[0;36mdrawtree\u001b[1;34m(L, highlight)\u001b[0m\n\u001b[0;32m     40\u001b[0m   \u001b[0mT\u001b[0m \u001b[1;33m=\u001b[0m \u001b[0mnx\u001b[0m\u001b[1;33m.\u001b[0m\u001b[0mrelabel_nodes\u001b[0m\u001b[1;33m(\u001b[0m\u001b[0mT\u001b[0m\u001b[1;33m,\u001b[0m \u001b[0mdict\u001b[0m\u001b[1;33m(\u001b[0m\u001b[0mzip\u001b[0m\u001b[1;33m(\u001b[0m\u001b[0mT\u001b[0m\u001b[1;33m.\u001b[0m\u001b[0mnodes\u001b[0m\u001b[1;33m,\u001b[0m \u001b[0mL\u001b[0m\u001b[1;33m)\u001b[0m\u001b[1;33m)\u001b[0m\u001b[1;33m,\u001b[0m \u001b[0mcopy\u001b[0m\u001b[1;33m=\u001b[0m\u001b[1;32mTrue\u001b[0m\u001b[1;33m)\u001b[0m\u001b[1;33m\u001b[0m\u001b[1;33m\u001b[0m\u001b[0m\n\u001b[0;32m     41\u001b[0m   \u001b[1;31m# Get nice positions for the nodes in the picture.\u001b[0m\u001b[1;33m\u001b[0m\u001b[1;33m\u001b[0m\u001b[0m\n\u001b[1;32m---> 42\u001b[1;33m   \u001b[0mpos\u001b[0m \u001b[1;33m=\u001b[0m \u001b[0mnx\u001b[0m\u001b[1;33m.\u001b[0m\u001b[0mdrawing\u001b[0m\u001b[1;33m.\u001b[0m\u001b[0mnx_pydot\u001b[0m\u001b[1;33m.\u001b[0m\u001b[0mgraphviz_layout\u001b[0m\u001b[1;33m(\u001b[0m\u001b[0mT\u001b[0m\u001b[1;33m,\u001b[0m \u001b[0mprog\u001b[0m\u001b[1;33m=\u001b[0m\u001b[1;34m\"dot\"\u001b[0m\u001b[1;33m)\u001b[0m\u001b[1;33m\u001b[0m\u001b[1;33m\u001b[0m\u001b[0m\n\u001b[0m\u001b[0;32m     43\u001b[0m   \u001b[1;31m# Draw the graph.\u001b[0m\u001b[1;33m\u001b[0m\u001b[1;33m\u001b[0m\u001b[0m\n\u001b[0;32m     44\u001b[0m   \u001b[0mnx\u001b[0m\u001b[1;33m.\u001b[0m\u001b[0mdraw\u001b[0m\u001b[1;33m(\u001b[0m\u001b[0mT\u001b[0m\u001b[1;33m,\u001b[0m \u001b[0mpos\u001b[0m\u001b[1;33m,\u001b[0m \u001b[0mwith_labels\u001b[0m\u001b[1;33m=\u001b[0m\u001b[1;32mTrue\u001b[0m\u001b[1;33m,\u001b[0m \u001b[0mnode_color\u001b[0m\u001b[1;33m=\u001b[0m\u001b[1;34m'lightgrey'\u001b[0m\u001b[1;33m,\u001b[0m \u001b[0mnode_size\u001b[0m\u001b[1;33m=\u001b[0m\u001b[1;36m1600\u001b[0m\u001b[1;33m,\u001b[0m \u001b[0mfont_size\u001b[0m\u001b[1;33m=\u001b[0m\u001b[1;36m32\u001b[0m\u001b[1;33m)\u001b[0m\u001b[1;33m\u001b[0m\u001b[1;33m\u001b[0m\u001b[0m\n",
      "\u001b[1;32mC:\\ProgramData\\Anaconda3\\lib\\site-packages\\networkx\\drawing\\nx_pydot.py\u001b[0m in \u001b[0;36mgraphviz_layout\u001b[1;34m(G, prog, root)\u001b[0m\n\u001b[0;32m    261\u001b[0m     \u001b[0mThis\u001b[0m \u001b[1;32mis\u001b[0m \u001b[0ma\u001b[0m \u001b[0mwrapper\u001b[0m \u001b[1;32mfor\u001b[0m \u001b[0mpydot_layout\u001b[0m\u001b[1;33m.\u001b[0m\u001b[1;33m\u001b[0m\u001b[1;33m\u001b[0m\u001b[0m\n\u001b[0;32m    262\u001b[0m     \"\"\"\n\u001b[1;32m--> 263\u001b[1;33m     \u001b[1;32mreturn\u001b[0m \u001b[0mpydot_layout\u001b[0m\u001b[1;33m(\u001b[0m\u001b[0mG\u001b[0m\u001b[1;33m=\u001b[0m\u001b[0mG\u001b[0m\u001b[1;33m,\u001b[0m \u001b[0mprog\u001b[0m\u001b[1;33m=\u001b[0m\u001b[0mprog\u001b[0m\u001b[1;33m,\u001b[0m \u001b[0mroot\u001b[0m\u001b[1;33m=\u001b[0m\u001b[0mroot\u001b[0m\u001b[1;33m)\u001b[0m\u001b[1;33m\u001b[0m\u001b[1;33m\u001b[0m\u001b[0m\n\u001b[0m\u001b[0;32m    264\u001b[0m \u001b[1;33m\u001b[0m\u001b[0m\n\u001b[0;32m    265\u001b[0m \u001b[1;33m\u001b[0m\u001b[0m\n",
      "\u001b[1;32mC:\\ProgramData\\Anaconda3\\lib\\site-packages\\networkx\\drawing\\nx_pydot.py\u001b[0m in \u001b[0;36mpydot_layout\u001b[1;34m(G, prog, root)\u001b[0m\n\u001b[0;32m    326\u001b[0m     \u001b[1;31m# List of one or more \"pydot.Dot\" instances deserialized from this string.\u001b[0m\u001b[1;33m\u001b[0m\u001b[1;33m\u001b[0m\u001b[0m\n\u001b[0;32m    327\u001b[0m     \u001b[0mQ_list\u001b[0m \u001b[1;33m=\u001b[0m \u001b[0mpydot\u001b[0m\u001b[1;33m.\u001b[0m\u001b[0mgraph_from_dot_data\u001b[0m\u001b[1;33m(\u001b[0m\u001b[0mD\u001b[0m\u001b[1;33m)\u001b[0m\u001b[1;33m\u001b[0m\u001b[1;33m\u001b[0m\u001b[0m\n\u001b[1;32m--> 328\u001b[1;33m     \u001b[1;32massert\u001b[0m \u001b[0mlen\u001b[0m\u001b[1;33m(\u001b[0m\u001b[0mQ_list\u001b[0m\u001b[1;33m)\u001b[0m \u001b[1;33m==\u001b[0m \u001b[1;36m1\u001b[0m\u001b[1;33m\u001b[0m\u001b[1;33m\u001b[0m\u001b[0m\n\u001b[0m\u001b[0;32m    329\u001b[0m \u001b[1;33m\u001b[0m\u001b[0m\n\u001b[0;32m    330\u001b[0m     \u001b[1;31m# The first and only such instance, as guaranteed by the above assertion.\u001b[0m\u001b[1;33m\u001b[0m\u001b[1;33m\u001b[0m\u001b[0m\n",
      "\u001b[1;31mTypeError\u001b[0m: object of type 'Dot' has no len()"
     ]
    }
   ],
   "source": [
    "L1 = copy.deepcopy(L)\n",
    "heapSort(L1, True) # Sort lowest to highest\n",
    "L1"
   ]
  },
  {
   "cell_type": "code",
   "execution_count": null,
   "id": "7ac4729a",
   "metadata": {},
   "outputs": [],
   "source": [
    "L2 = copy.deepcopy(L)\n",
    "heapSort(L2, False) # Sort highest to lowest\n",
    "L2"
   ]
  },
  {
   "cell_type": "markdown",
   "id": "ea0960fe",
   "metadata": {},
   "source": [
    "## The computational complexity of the heapsort"
   ]
  },
  {
   "cell_type": "markdown",
   "id": "b2e70587",
   "metadata": {},
   "source": [
    "### The space complexity of the heapsort\n",
    "The space complexity of the heapsort is O(c) or O(1) as it is an in-place sorting algorithm, meaning that the only additional memory required for the sorting, is that to store the variables for each sort.\n",
    "As this memory is freed up to be used after each comparison, this means that the same memory can be used again and again during the sort, reducing memory requirements.\n",
    "As mentioned earlier, the fact that it is an in-place sorting algorithm means that the size of the list does not affect the memory overhead of the sorting, as said list itself is used to do the sorting."
   ]
  },
  {
   "cell_type": "code",
   "execution_count": null,
   "id": "f8d26e51",
   "metadata": {},
   "outputs": [],
   "source": []
  }
 ],
 "metadata": {
  "kernelspec": {
   "display_name": "Python 3 (ipykernel)",
   "language": "python",
   "name": "python3"
  },
  "language_info": {
   "codemirror_mode": {
    "name": "ipython",
    "version": 3
   },
   "file_extension": ".py",
   "mimetype": "text/x-python",
   "name": "python",
   "nbconvert_exporter": "python",
   "pygments_lexer": "ipython3",
   "version": "3.9.7"
  }
 },
 "nbformat": 4,
 "nbformat_minor": 5
}
