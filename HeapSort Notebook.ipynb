{
 "cells": [
  {
   "cell_type": "markdown",
   "id": "dd24e8b0",
   "metadata": {},
   "source": [
    "# The Heapsort"
   ]
  },
  {
   "cell_type": "code",
   "execution_count": 1,
   "id": "29815f00",
   "metadata": {},
   "outputs": [
    {
     "data": {
      "text/plain": [
       "[3, 105, 176, 168, 185, 192, 151, 199, 12, 205]"
      ]
     },
     "execution_count": 1,
     "metadata": {},
     "output_type": "execute_result"
    }
   ],
   "source": [
    "import random, copy # Used modules are imported\n",
    "L = [] # The list to be used for testing is declared\n",
    "for i in range(0, 10): # The list is populated with 10 randomly generated digits\n",
    "    L.append(random.randint(1,255))\n",
    "L"
   ]
  },
  {
   "cell_type": "code",
   "execution_count": 2,
   "id": "93f63bdc",
   "metadata": {},
   "outputs": [],
   "source": [
    "# This meth\n",
    "def heapSort(inputList, mode): # The function for sorting lists is created here, the inputList is the list to sort\n",
    "    # The mode determines whether it is an ascending or descending heapsort, True == ascending, False == descending\n",
    "    listToReturn = copy.deepcopy(inputList) # The list is cloned so that we are not modifying the original list until we return it\n",
    "    length = len(listToReturn)\n",
    "    \n",
    "    \n",
    "    for i in range(length//2 - 1, -1, -1): # The max heap is created\n",
    "        toHeap(listToReturn, length, i)\n",
    "    \n",
    "    for i in range(length-1, 0, -1): # The heap is reverted back to list form\n",
    "        listToReturn[i], listToReturn[0] = listToReturn[0], listToReturn[i]\n",
    "        toHeap(listToReturn, i, 0)\n",
    "    \n",
    "    if mode == False: \n",
    "        listToReturn.reverse()\n",
    "\n",
    "    return listToReturn\n",
    "\n",
    "def toHeap(inputList, listLength, index): # A subtree is created with the index value being the root\n",
    "    root = index\n",
    "    left = 2 * index + 1\n",
    "    right = 2 * index + 2\n",
    "    \n",
    "     # The root must be larger than either of it's children, or it will be swapped with the larger child\n",
    "    if left < listLength and inputList[root] < inputList[left]:\n",
    "         root = left\n",
    "        \n",
    "    if right < listLength and inputList[root] < inputList[right]:\n",
    "        root = right\n",
    "    \n",
    "    if root != index: # If the root has been changed and no longer matches, the index, the values stored at the new root and the index are swapped\n",
    "        inputList[index], inputList[root] = inputList[root], inputList[index] # Values are swapped\n",
    "        \n",
    "        toHeap(inputList, listLength, root) # The tree is recreated with the the new root"
   ]
  },
  {
   "cell_type": "code",
   "execution_count": 3,
   "id": "0272472a",
   "metadata": {},
   "outputs": [
    {
     "data": {
      "text/plain": [
       "[3, 12, 105, 151, 168, 176, 185, 192, 199, 205]"
      ]
     },
     "execution_count": 3,
     "metadata": {},
     "output_type": "execute_result"
    }
   ],
   "source": [
    "L = heapSort(L, True) # Sort lowest to highest\n",
    "L"
   ]
  },
  {
   "cell_type": "code",
   "execution_count": 4,
   "id": "722177d3",
   "metadata": {},
   "outputs": [
    {
     "data": {
      "text/plain": [
       "[205, 199, 192, 185, 176, 168, 151, 105, 12, 3]"
      ]
     },
     "execution_count": 4,
     "metadata": {},
     "output_type": "execute_result"
    }
   ],
   "source": [
    "L = heapSort(L, False) # Sort highest to lowest\n",
    "L"
   ]
  },
  {
   "cell_type": "code",
   "execution_count": null,
   "id": "db0a8e70",
   "metadata": {},
   "outputs": [],
   "source": []
  }
 ],
 "metadata": {
  "kernelspec": {
   "display_name": "Python 3 (ipykernel)",
   "language": "python",
   "name": "python3"
  },
  "language_info": {
   "codemirror_mode": {
    "name": "ipython",
    "version": 3
   },
   "file_extension": ".py",
   "mimetype": "text/x-python",
   "name": "python",
   "nbconvert_exporter": "python",
   "pygments_lexer": "ipython3",
   "version": "3.9.7"
  }
 },
 "nbformat": 4,
 "nbformat_minor": 5
}
